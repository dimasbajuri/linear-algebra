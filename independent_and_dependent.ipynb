{
 "cells": [
  {
   "cell_type": "code",
   "execution_count": 6,
   "metadata": {},
   "outputs": [
    {
     "name": "stdout",
     "output_type": "stream",
     "text": [
      "[[1 4 7]\n",
      " [2 5 8]\n",
      " [3 6 9]]\n"
     ]
    }
   ],
   "source": [
    "import numpy as np\n",
    "\n",
    "vector1 = np.array([1, 2, 3])\n",
    "vector2 = np.array([4, 5, 6])\n",
    "vektor3 = np.array([7, 8, 9])\n",
    "\n",
    "# Susun/stack vektor menjadi matrix kolom\n",
    "A = np.column_stack((vector1, vector2, vektor3))\n",
    "\n",
    "print(A)"
   ]
  },
  {
   "cell_type": "code",
   "execution_count": 11,
   "metadata": {},
   "outputs": [
    {
     "name": "stdout",
     "output_type": "stream",
     "text": [
      "Rank\t:2\n",
      "Kolom\t:3\n",
      "\n",
      "vektor vektor ini dependen\n"
     ]
    }
   ],
   "source": [
    "# Jika Dicari dengan Rank\n",
    "# Hitung rank\n",
    "rank = np.linalg.matrix_rank(A)\n",
    "\n",
    "# Jika rank dari matrix A = n (jumlah vektor) maka vektor vektor tersebut independent jika tidak maka dependent\n",
    "print(f\"Rank\\t:{rank}\\nKolom\\t:{A.shape[1]}\\n\")\n",
    "if (rank == A.shape[1]):\n",
    "    print(\"vektor-vektor ini independen\")\n",
    "else:\n",
    "    print(\"vektor vektor ini dependen\")"
   ]
  },
  {
   "cell_type": "code",
   "execution_count": 13,
   "metadata": {},
   "outputs": [
    {
     "name": "stdout",
     "output_type": "stream",
     "text": [
      "0.0\n",
      "vektor vektor ini dependen\n"
     ]
    }
   ],
   "source": [
    "# Jika dicari dengan Determinan\n",
    "# Dengan syarat bahwa kolom dan baris pada matrix harus sama\n",
    "if A.shape[0] == A.shape[1]:\n",
    "    # Hitung Determinan\n",
    "    determinan = np.linalg.det(A)\n",
    "    print(determinan)\n",
    "\n",
    "    # Jika determinan != 0 vektor vektor tersebut independen\n",
    "    if determinan != 0:\n",
    "        print(\"vektor vektor ini independen\")\n",
    "    else:\n",
    "        print(\"vektor vektor ini dependen\")\n",
    "else:\n",
    "    print(\"matrix tidak persegi, gunakan metode rank\")"
   ]
  }
 ],
 "metadata": {
  "kernelspec": {
   "display_name": "Python 3",
   "language": "python",
   "name": "python3"
  },
  "language_info": {
   "codemirror_mode": {
    "name": "ipython",
    "version": 3
   },
   "file_extension": ".py",
   "mimetype": "text/x-python",
   "name": "python",
   "nbconvert_exporter": "python",
   "pygments_lexer": "ipython3",
   "version": "3.12.6"
  }
 },
 "nbformat": 4,
 "nbformat_minor": 2
}
