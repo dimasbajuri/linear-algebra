{
 "cells": [
  {
   "cell_type": "code",
   "execution_count": 5,
   "metadata": {},
   "outputs": [
    {
     "name": "stdout",
     "output_type": "stream",
     "text": [
      "Hasil\n",
      "79 <= 85.6270985144306\n",
      "\n",
      "Hasil sama dengan\n",
      "234 <= 234.00000000000003\n"
     ]
    }
   ],
   "source": [
    "import numpy as np\n",
    "\n",
    "# The vector\n",
    "u = np.array([2, 5, 7])\n",
    "v = np.array([3, 2, 9])\n",
    "\n",
    "u_dikali_3 = u * 3"
   ]
  },
  {
   "cell_type": "code",
   "execution_count": 8,
   "metadata": {},
   "outputs": [
    {
     "name": "stdout",
     "output_type": "stream",
     "text": [
      "Hasil\n",
      "79 <= 85.6270985144306\n",
      "\n",
      "Hasil sama dengan\n",
      "234 <= 234.00000000000003\n"
     ]
    }
   ],
   "source": [
    "# Cauchy-Schwarz Inequality menyatakan |u ⋅ v| <= ||u|| ||v||\n",
    "CS_dot = np.dot(u, v)\n",
    "CS_u_norm = np.linalg.norm(u)\n",
    "CS_v_norm = np.linalg.norm(v)\n",
    "\n",
    "CS_multipy = CS_u_norm * CS_v_norm\n",
    "\n",
    "print(f\"Hasil\")\n",
    "print(f\"{CS_dot} <= {CS_multipy}\")\n",
    "\n",
    "# Jika vector yang digunakan collinear (vektor satu adalah hasi dari perkalian dari vektor lainnya)\n",
    "CS_dot_collinear = np.dot(u, u_dikali_3)\n",
    "CS_u_dikali_3_norm = np.linalg.norm(u_dikali_3)\n",
    "\n",
    "CS_multipy_u_collinear = CS_u_norm * CS_u_dikali_3_norm\n",
    "\n",
    "print()\n",
    "print(\"Hasil sama dengan\")\n",
    "print(f\"{CS_dot_collinear} <= {CS_multipy_u_collinear}\")"
   ]
  },
  {
   "cell_type": "code",
   "execution_count": 9,
   "metadata": {},
   "outputs": [
    {
     "name": "stdout",
     "output_type": "stream",
     "text": [
      "Hasil\n",
      "18.16590212458495 <= 18.527120581160506\n",
      "\n",
      "Hasil sama dengan\n",
      "35.32704346531139 <= 35.32704346531139\n"
     ]
    }
   ],
   "source": [
    "# Vector Triangle Inequality menyatakan ||u + v|| <= ||u|| + ||v||\n",
    "VTI_u_plus_v = np.add(u, v)\n",
    "VTI_norm_u_plus_v = np.linalg.norm(VTI_u_plus_v)\n",
    "\n",
    "VTI_u_norm = np.linalg.norm(u)\n",
    "VTI_v_norm = np.linalg.norm(v)\n",
    "VTI_u_norm_plus_v_norm = VTI_u_norm + VTI_v_norm\n",
    "\n",
    "print(f\"Hasil\")\n",
    "print(f\"{VTI_norm_u_plus_v} <= {VTI_u_norm_plus_v_norm}\")\n",
    "\n",
    "# Jika vector yang digunakan collinear (vektor satu adalah hasi dari perkalian dari vektor lainnya)\n",
    "VTI_u_plus_collinear = np.add(u, u_dikali_3)\n",
    "VTI_norm_u_plus_collinear = np.linalg.norm(VTI_u_plus_collinear)\n",
    "\n",
    "VTI_u_dikali_3_norm = np.linalg.norm(u_dikali_3)\n",
    "VTI_u_norm_plus_collinear = VTI_u_norm + VTI_u_dikali_3_norm\n",
    "\n",
    "print()\n",
    "print(\"Hasil sama dengan\")\n",
    "print(f\"{VTI_norm_u_plus_collinear} <= {VTI_norm_u_plus_collinear}\")"
   ]
  }
 ],
 "metadata": {
  "kernelspec": {
   "display_name": "Python 3",
   "language": "python",
   "name": "python3"
  },
  "language_info": {
   "codemirror_mode": {
    "name": "ipython",
    "version": 3
   },
   "file_extension": ".py",
   "mimetype": "text/x-python",
   "name": "python",
   "nbconvert_exporter": "python",
   "pygments_lexer": "ipython3",
   "version": "3.12.6"
  }
 },
 "nbformat": 4,
 "nbformat_minor": 2
}
