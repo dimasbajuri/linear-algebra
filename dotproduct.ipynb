{
 "cells": [
  {
   "cell_type": "code",
   "execution_count": 18,
   "metadata": {},
   "outputs": [
    {
     "name": "stdout",
     "output_type": "stream",
     "text": [
      "Dot product 11\n"
     ]
    }
   ],
   "source": [
    "import numpy as np\n",
    "\n",
    "v1 = np.array([2, 3])\n",
    "v2 = np.array([4, 1])\n",
    "\n",
    "dot_product = np.dot(v1, v2)\n",
    "print(f\"Dot product {dot_product}\")"
   ]
  },
  {
   "cell_type": "code",
   "execution_count": 19,
   "metadata": {},
   "outputs": [
    {
     "name": "stdout",
     "output_type": "stream",
     "text": [
      "Length: 3.605551275463989\n",
      "Length: 4.123105625617661\n"
     ]
    }
   ],
   "source": [
    "v1_length = np.linalg.norm(v1)\n",
    "v2_length = np.linalg.norm(v2)\n",
    "\n",
    "print(f\"Length: {v1_length}\")\n",
    "print(f\"Length: {v2_length}\")"
   ]
  }
 ],
 "metadata": {
  "kernelspec": {
   "display_name": "Python 3",
   "language": "python",
   "name": "python3"
  },
  "language_info": {
   "codemirror_mode": {
    "name": "ipython",
    "version": 3
   },
   "file_extension": ".py",
   "mimetype": "text/x-python",
   "name": "python",
   "nbconvert_exporter": "python",
   "pygments_lexer": "ipython3",
   "version": "3.12.6"
  }
 },
 "nbformat": 4,
 "nbformat_minor": 2
}
