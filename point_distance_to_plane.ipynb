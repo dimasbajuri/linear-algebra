{
 "cells": [
  {
   "cell_type": "markdown",
   "metadata": {},
   "source": [
    "# Jarak Titik ke Bidang\n",
    "\n",
    "## Definisi\n",
    "Jarak antara suatu titik $ P(x_1, y_1, z_1) $ dan sebuah bidang $ Ax + By + Cz + D = 0 $ adalah jarak terpendek dari titik tersebut ke bidang. Jarak ini diukur secara tegak lurus terhadap bidang.\n",
    "\n",
    "## Rumus untuk Menghitung Jarak\n",
    "Rumus untuk menghitung jarak $ d $ dari titik $ P(x_1, y_1, z_1) $ ke bidang $ Ax + By + Cz + D = 0 $ adalah:\n",
    "\n",
    "$$\n",
    "d = \\frac{|Ax_1 + By_1 + Cz_1 + D|}{\\sqrt{A^2 + B^2 + C^2}}\n",
    "$$\n",
    "\n",
    "### Penjelasan Rumus:\n",
    "1. **Numerator (Pembilang):** $ |Ax_1 + By_1 + Cz_1 + D| $\n",
    "   - Nilai absolut dari substitusi koordinat titik ke dalam persamaan bidang.\n",
    "   - Mengukur seberapa \"jauh\" titik tersebut dari bidang, tetapi tidak dalam arti geometri.\n",
    "\n",
    "2. **Denominator (Penyebut):** $ \\sqrt{A^2 + B^2 + C^2} $\n",
    "   - Panjang (norm) dari normal vector $ \\mathbf{n} = [A, B, C] $.\n",
    "   - Membagi pembilang untuk memberikan jarak terproyeksi secara tegak lurus.\n",
    "\n",
    "## Contoh Manual\n",
    "Misalkan kita memiliki bidang:\n",
    "$$\n",
    "2x - 3y + 4z - 5 = 0\n",
    "$$\n",
    "Dan titik $ P(1, 2, 3) $.\n",
    "\n",
    "1. Substitusi titik $ P(1, 2, 3) $ ke dalam persamaan bidang:\n",
    "$$\n",
    "|2(1) - 3(2) + 4(3) - 5| = |2 - 6 + 12 - 5| = |3|\n",
    "$$\n",
    "\n",
    "2. Hitung norm dari normal vector $ \\mathbf{n} = [2, -3, 4] $:\n",
    "$$\n",
    "\\sqrt{2^2 + (-3)^2 + 4^2} = \\sqrt{4 + 9 + 16} = \\sqrt{29}\n",
    "$$\n",
    "\n",
    "3. Hitung jarak:\n",
    "$$\n",
    "d = \\frac{3}{\\sqrt{29}}\n",
    "$$"
   ]
  },
  {
   "cell_type": "markdown",
   "metadata": {},
   "source": []
  }
 ],
 "metadata": {
  "language_info": {
   "name": "python"
  }
 },
 "nbformat": 4,
 "nbformat_minor": 2
}
