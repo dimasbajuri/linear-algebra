{
 "cells": [
  {
   "cell_type": "markdown",
   "metadata": {},
   "source": [
    "### Menghitung Sudut antara Dua Vektor\n",
    "\n",
    "Formula untuk menghitung sudut $\\theta$ antara dua vektor $\\mathbf{u}$ dan $\\mathbf{v}$:\n",
    "\n",
    "$$\n",
    "\\cos(\\theta) = \\frac{\\mathbf{u} \\cdot \\mathbf{v}}{\\|\\mathbf{u}\\| \\|\\mathbf{v}\\|}\n",
    "$$\n",
    "\n",
    "Untuk menghitung sudutnya, gunakan:\n",
    "\n",
    "$$\n",
    "\\theta = \\arccos \\left( \\frac{\\mathbf{u} \\cdot \\mathbf{v}}{\\|\\mathbf{u}\\| \\|\\mathbf{v}\\|} \\right)\n",
    "$$\n"
   ]
  },
  {
   "cell_type": "code",
   "execution_count": 5,
   "metadata": {},
   "outputs": [
    {
     "name": "stdout",
     "output_type": "stream",
     "text": [
      "12.933154491899135\n"
     ]
    }
   ],
   "source": [
    "import numpy as np\n",
    "\n",
    "u = np.array([1, 2, 3])\n",
    "v = np.array([4, 5, 6])\n",
    "\n",
    "dot_product = np.dot(u, v)\n",
    "\n",
    "norm_u = np.linalg.norm(u)\n",
    "norm_v = np.linalg.norm(v)\n",
    "\n",
    "cos_theta = dot_product / (norm_u * norm_v)\n",
    "\n",
    "cos_theta = np.clip(cos_theta, -1, 1)\n",
    "\n",
    "theta_radian = np.arccos(cos_theta)\n",
    "theta_degree = np.degrees(theta_radian)\n",
    "\n",
    "print(theta_degree)"
   ]
  }
 ],
 "metadata": {
  "kernelspec": {
   "display_name": "Python 3",
   "language": "python",
   "name": "python3"
  },
  "language_info": {
   "codemirror_mode": {
    "name": "ipython",
    "version": 3
   },
   "file_extension": ".py",
   "mimetype": "text/x-python",
   "name": "python",
   "nbconvert_exporter": "python",
   "pygments_lexer": "ipython3",
   "version": "3.12.6"
  }
 },
 "nbformat": 4,
 "nbformat_minor": 2
}
