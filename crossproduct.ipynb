{
 "cells": [
  {
   "cell_type": "markdown",
   "metadata": {},
   "source": [
    "# Cross Product\n",
    "\n",
    "**Definisi**  \n",
    "Cross product adalah operasi antara dua vektor dalam ruang 3 dimensi yang menghasilkan vektor baru.  \n",
    "Vektor hasil ini **tegak lurus terhadap kedua vektor** awal.\n",
    "\n",
    "Jika dua vektor $\\mathbf{u}$ dan $\\mathbf{v}$ diberikan sebagai:\n",
    "$$\n",
    "\\mathbf{u} = [u_1, u_2, u_3], \\quad \\mathbf{v} = [v_1, v_2, v_3]\n",
    "$$\n",
    "maka:\n",
    "$$\n",
    "\\mathbf{u} \\times \\mathbf{v} = \n",
    "\\begin{vmatrix} \n",
    "\\mathbf{i} & \\mathbf{j} & \\mathbf{k} \\\\ \n",
    "u_1 & u_2 & u_3 \\\\ \n",
    "v_1 & v_2 & v_3 \n",
    "\\end{vmatrix}\n",
    "$$\n",
    "\n",
    "**Rumus Komponen:**\n",
    "$$\n",
    "\\mathbf{u} \\times \\mathbf{v} = [u_2v_3 - u_3v_2, u_3v_1 - u_1v_3, u_1v_2 - u_2v_1]\n",
    "$$\n",
    "\n",
    "**Contoh Perhitungan**  \n",
    "Misal:\n",
    "$$\n",
    "\\mathbf{u} = [1, 2, 3], \\quad \\mathbf{v} = [4, 5, 6]\n",
    "$$\n",
    "\n",
    "Hasil:\n",
    "$$\n",
    "\\mathbf{u} \\times \\mathbf{v} = \n",
    "\\begin{vmatrix} \n",
    "\\mathbf{i} & \\mathbf{j} & \\mathbf{k} \\\\ \n",
    "1 & 2 & 3 \\\\ \n",
    "4 & 5 & 6 \n",
    "\\end{vmatrix}\n",
    "= \\mathbf{i}(-3) - \\mathbf{j}(-6) + \\mathbf{k}(-3)\n",
    "= [-3, 6, -3]\n",
    "$$"
   ]
  },
  {
   "cell_type": "code",
   "execution_count": 3,
   "metadata": {},
   "outputs": [
    {
     "name": "stdout",
     "output_type": "stream",
     "text": [
      "[1 2 3]\n",
      "Cross Product: [-3  6 -3]\n"
     ]
    }
   ],
   "source": [
    "import numpy as np\n",
    "\n",
    "u = np.array([1, 2, 3])\n",
    "v = np.array([4, 5, 6])\n",
    "\n",
    "print(f\"Cross Product: {np.cross(u, v)}\")"
   ]
  }
 ],
 "metadata": {
  "kernelspec": {
   "display_name": "Python 3",
   "language": "python",
   "name": "python3"
  },
  "language_info": {
   "codemirror_mode": {
    "name": "ipython",
    "version": 3
   },
   "file_extension": ".py",
   "mimetype": "text/x-python",
   "name": "python",
   "nbconvert_exporter": "python",
   "pygments_lexer": "ipython3",
   "version": "3.12.6"
  }
 },
 "nbformat": 4,
 "nbformat_minor": 2
}
