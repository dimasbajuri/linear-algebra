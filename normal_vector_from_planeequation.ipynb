{
 "cells": [
  {
   "cell_type": "markdown",
   "metadata": {},
   "source": [
    "# Normal Vector from Plane Equation\n",
    "\n",
    "## Definisi\n",
    "- Normal vector adalah vektor yang tegak lurus terhadap bidang (plane) dalam ruang 3D.\n",
    "- Bidang dalam ruang 3D dapat didefinisikan oleh persamaan:\n",
    "  $$\n",
    "  Ax + By + Cz + D = 0\n",
    "  $$\n",
    "  Di mana:\n",
    "  - $ A, B, C $: Koefisien yang merepresentasikan normal vector.\n",
    "  - $ (x, y, z) $: Koordinat titik pada bidang.\n",
    "  - $ D $: Konstanta.\n",
    "\n",
    "## Mengidentifikasi Normal Vector\n",
    "- Dari persamaan bidang $ Ax + By + Cz + D = 0 $, normal vector adalah:\n",
    "  $$\n",
    "  \\mathbf{n} = [A, B, C]\n",
    "  $$\n",
    "\n",
    "## Fungsi Normal Vector\n",
    "1. **Menentukan Orientasi Bidang**: Normal vector menunjukkan arah tegak lurus bidang.\n",
    "2. **Aplikasi Geometri 3D**: Digunakan dalam kalkulasi sudut, refleksi, dan grafik 3D.\n",
    "3. **Definisi Bidang**: Sebagai bagian integral dari persamaan bidang.\n",
    "\n",
    "## Contoh\n",
    "- Misalkan persamaan bidang:\n",
    "  $$\n",
    "  2x - 3y + 4z - 6 = 0\n",
    "  $$\n",
    "  Maka normal vectornya adalah:\n",
    "  $$\n",
    "  \\mathbf{n} = [2, -3, 4]\n",
    "  $$\n",
    "\n",
    "## Visualisasi\n",
    "- Normal vector dapat divisualisasikan sebagai vektor yang tegak lurus terhadap bidang.\n",
    "- Kita dapat memplot bidang dan normal vector menggunakan pustaka seperti `matplotlib`.\n",
    "\n",
    "## Aplikasi\n",
    "1. **Sudut antara Dua Bidang**: Menggunakan normal vector dari kedua bidang untuk menghitung sudut.\n",
    "2. **Grafik Komputer**: Membantu menentukan arah pencahayaan dan shading.\n",
    "3. **Refleksi dan Proyeksi**: Normal vector digunakan dalam operasi geometris.\n"
   ]
  }
 ],
 "metadata": {
  "language_info": {
   "name": "python"
  }
 },
 "nbformat": 4,
 "nbformat_minor": 2
}
